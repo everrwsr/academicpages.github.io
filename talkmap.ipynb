{
 "cells": [
  {
   "cell_type": "markdown",
   "metadata": {},
   "source": [
    "# Leaflet cluster map of talk locations\n",
    "\n",
    "Run this from the _talks/ directory, which contains .md files of all your talks. This scrapes the location YAML field from each .md file, geolocates it with geopy/Nominatim, and uses the getorg library to output data, HTML, and Javascript for a standalone cluster map."
   ]
  },
  {
   "cell_type": "code",
   "execution_count": 4,
   "metadata": {
    "collapsed": false
   },
   "outputs": [
    {
     "name": "stdout",
     "output_type": "stream",
     "text": [
      "Defaulting to user installation because normal site-packages is not writeable\n",
      "Looking in indexes: https://pypi.tuna.tsinghua.edu.cn/simple\n",
      "Requirement already satisfied: getorg in c:\\users\\hanbing zhang\\appdata\\roaming\\python\\python39\\site-packages (0.3.1)\n",
      "Requirement already satisfied: pygithub in c:\\users\\hanbing zhang\\appdata\\roaming\\python\\python39\\site-packages (from getorg) (1.55)\n",
      "Requirement already satisfied: geopy in c:\\users\\hanbing zhang\\appdata\\roaming\\python\\python39\\site-packages (from getorg) (2.2.0)\n",
      "Requirement already satisfied: retrying in c:\\users\\hanbing zhang\\appdata\\roaming\\python\\python39\\site-packages (from getorg) (1.3.3)\n",
      "Requirement already satisfied: geographiclib<2,>=1.49 in c:\\users\\hanbing zhang\\appdata\\roaming\\python\\python39\\site-packages (from geopy->getorg) (1.52)\n",
      "Requirement already satisfied: pyjwt>=2.0 in c:\\programdata\\anaconda3\\lib\\site-packages (from pygithub->getorg) (2.1.0)\n",
      "Requirement already satisfied: requests>=2.14.0 in c:\\programdata\\anaconda3\\lib\\site-packages (from pygithub->getorg) (2.27.1)\n",
      "Requirement already satisfied: pynacl>=1.4.0 in c:\\programdata\\anaconda3\\lib\\site-packages (from pygithub->getorg) (1.4.0)\n",
      "Requirement already satisfied: deprecated in c:\\users\\hanbing zhang\\appdata\\roaming\\python\\python39\\site-packages (from pygithub->getorg) (1.2.13)\n",
      "Requirement already satisfied: six in c:\\programdata\\anaconda3\\lib\\site-packages (from pynacl>=1.4.0->pygithub->getorg) (1.16.0)\n",
      "Requirement already satisfied: cffi>=1.4.1 in c:\\programdata\\anaconda3\\lib\\site-packages (from pynacl>=1.4.0->pygithub->getorg) (1.15.0)\n",
      "Requirement already satisfied: pycparser in c:\\programdata\\anaconda3\\lib\\site-packages (from cffi>=1.4.1->pynacl>=1.4.0->pygithub->getorg) (2.21)\n",
      "Requirement already satisfied: idna<4,>=2.5 in c:\\programdata\\anaconda3\\lib\\site-packages (from requests>=2.14.0->pygithub->getorg) (3.3)\n",
      "Requirement already satisfied: urllib3<1.27,>=1.21.1 in c:\\programdata\\anaconda3\\lib\\site-packages (from requests>=2.14.0->pygithub->getorg) (1.26.9)\n",
      "Requirement already satisfied: charset-normalizer~=2.0.0 in c:\\programdata\\anaconda3\\lib\\site-packages (from requests>=2.14.0->pygithub->getorg) (2.0.4)\n",
      "Requirement already satisfied: certifi>=2017.4.17 in c:\\programdata\\anaconda3\\lib\\site-packages (from requests>=2.14.0->pygithub->getorg) (2021.10.8)\n",
      "Requirement already satisfied: wrapt<2,>=1.10 in c:\\programdata\\anaconda3\\lib\\site-packages (from deprecated->pygithub->getorg) (1.12.1)\n"
     ]
    }
   ],
   "source": [
    "!pip install getorg --upgrade\n",
    "import glob\n",
    "import getorg\n",
    "from geopy import Nominatim"
   ]
  },
  {
   "cell_type": "code",
   "execution_count": 5,
   "metadata": {
    "collapsed": false
   },
   "outputs": [],
   "source": [
    "g = glob.glob(\"*.md\")"
   ]
  },
  {
   "cell_type": "code",
   "execution_count": 6,
   "metadata": {
    "collapsed": true
   },
   "outputs": [
    {
     "ename": "ConfigurationError",
     "evalue": "Using Nominatim with default or sample `user_agent` \"geopy/2.2.0\" is strongly discouraged, as it violates Nominatim's ToS https://operations.osmfoundation.org/policies/nominatim/ and may possibly cause 403 and 429 HTTP errors. Please specify a custom `user_agent` with `Nominatim(user_agent=\"my-application\")` or by overriding the default `user_agent`: `geopy.geocoders.options.default_user_agent = \"my-application\"`.",
     "output_type": "error",
     "traceback": [
      "\u001b[1;31m---------------------------------------------------------------------------\u001b[0m",
      "\u001b[1;31mConfigurationError\u001b[0m                        Traceback (most recent call last)",
      "\u001b[1;32md:\\02code\\academicpages.github.io\\talkmap.ipynb Cell 4\u001b[0m in \u001b[0;36m<cell line: 1>\u001b[1;34m()\u001b[0m\n\u001b[1;32m----> <a href='vscode-notebook-cell:/d%3A/02code/academicpages.github.io/talkmap.ipynb#W3sZmlsZQ%3D%3D?line=0'>1</a>\u001b[0m geocoder \u001b[39m=\u001b[39m Nominatim()\n\u001b[0;32m      <a href='vscode-notebook-cell:/d%3A/02code/academicpages.github.io/talkmap.ipynb#W3sZmlsZQ%3D%3D?line=1'>2</a>\u001b[0m location_dict \u001b[39m=\u001b[39m {}\n\u001b[0;32m      <a href='vscode-notebook-cell:/d%3A/02code/academicpages.github.io/talkmap.ipynb#W3sZmlsZQ%3D%3D?line=2'>3</a>\u001b[0m location \u001b[39m=\u001b[39m \u001b[39m\"\u001b[39m\u001b[39m\"\u001b[39m\n",
      "File \u001b[1;32m~\\AppData\\Roaming\\Python\\Python39\\site-packages\\geopy\\geocoders\\nominatim.py:105\u001b[0m, in \u001b[0;36mNominatim.__init__\u001b[1;34m(self, timeout, proxies, domain, scheme, user_agent, ssl_context, adapter_factory)\u001b[0m\n\u001b[0;32m    101\u001b[0m \u001b[39mself\u001b[39m\u001b[39m.\u001b[39mdomain \u001b[39m=\u001b[39m domain\u001b[39m.\u001b[39mstrip(\u001b[39m'\u001b[39m\u001b[39m/\u001b[39m\u001b[39m'\u001b[39m)\n\u001b[0;32m    103\u001b[0m \u001b[39mif\u001b[39;00m (\u001b[39mself\u001b[39m\u001b[39m.\u001b[39mdomain \u001b[39m==\u001b[39m _DEFAULT_NOMINATIM_DOMAIN\n\u001b[0;32m    104\u001b[0m         \u001b[39mand\u001b[39;00m \u001b[39mself\u001b[39m\u001b[39m.\u001b[39mheaders[\u001b[39m'\u001b[39m\u001b[39mUser-Agent\u001b[39m\u001b[39m'\u001b[39m] \u001b[39min\u001b[39;00m _REJECTED_USER_AGENTS):\n\u001b[1;32m--> 105\u001b[0m     \u001b[39mraise\u001b[39;00m ConfigurationError(\n\u001b[0;32m    106\u001b[0m         \u001b[39m'\u001b[39m\u001b[39mUsing Nominatim with default or sample `user_agent` \u001b[39m\u001b[39m\"\u001b[39m\u001b[39m%s\u001b[39;00m\u001b[39m\"\u001b[39m\u001b[39m is \u001b[39m\u001b[39m'\u001b[39m\n\u001b[0;32m    107\u001b[0m         \u001b[39m'\u001b[39m\u001b[39mstrongly discouraged, as it violates Nominatim\u001b[39m\u001b[39m\\'\u001b[39;00m\u001b[39ms ToS \u001b[39m\u001b[39m'\u001b[39m\n\u001b[0;32m    108\u001b[0m         \u001b[39m'\u001b[39m\u001b[39mhttps://operations.osmfoundation.org/policies/nominatim/ \u001b[39m\u001b[39m'\u001b[39m\n\u001b[0;32m    109\u001b[0m         \u001b[39m'\u001b[39m\u001b[39mand may possibly cause 403 and 429 HTTP errors. \u001b[39m\u001b[39m'\u001b[39m\n\u001b[0;32m    110\u001b[0m         \u001b[39m'\u001b[39m\u001b[39mPlease specify a custom `user_agent` with \u001b[39m\u001b[39m'\u001b[39m\n\u001b[0;32m    111\u001b[0m         \u001b[39m'\u001b[39m\u001b[39m`Nominatim(user_agent=\u001b[39m\u001b[39m\"\u001b[39m\u001b[39mmy-application\u001b[39m\u001b[39m\"\u001b[39m\u001b[39m)` or by \u001b[39m\u001b[39m'\u001b[39m\n\u001b[0;32m    112\u001b[0m         \u001b[39m'\u001b[39m\u001b[39moverriding the default `user_agent`: \u001b[39m\u001b[39m'\u001b[39m\n\u001b[0;32m    113\u001b[0m         \u001b[39m'\u001b[39m\u001b[39m`geopy.geocoders.options.default_user_agent = \u001b[39m\u001b[39m\"\u001b[39m\u001b[39mmy-application\u001b[39m\u001b[39m\"\u001b[39m\u001b[39m`.\u001b[39m\u001b[39m'\u001b[39m\n\u001b[0;32m    114\u001b[0m         \u001b[39m%\u001b[39m \u001b[39mself\u001b[39m\u001b[39m.\u001b[39mheaders[\u001b[39m'\u001b[39m\u001b[39mUser-Agent\u001b[39m\u001b[39m'\u001b[39m]\n\u001b[0;32m    115\u001b[0m     )\n\u001b[0;32m    117\u001b[0m \u001b[39mself\u001b[39m\u001b[39m.\u001b[39mapi \u001b[39m=\u001b[39m \u001b[39m\"\u001b[39m\u001b[39m%s\u001b[39;00m\u001b[39m://\u001b[39m\u001b[39m%s\u001b[39;00m\u001b[39m%s\u001b[39;00m\u001b[39m\"\u001b[39m \u001b[39m%\u001b[39m (\u001b[39mself\u001b[39m\u001b[39m.\u001b[39mscheme, \u001b[39mself\u001b[39m\u001b[39m.\u001b[39mdomain, \u001b[39mself\u001b[39m\u001b[39m.\u001b[39mgeocode_path)\n\u001b[0;32m    118\u001b[0m \u001b[39mself\u001b[39m\u001b[39m.\u001b[39mreverse_api \u001b[39m=\u001b[39m \u001b[39m\"\u001b[39m\u001b[39m%s\u001b[39;00m\u001b[39m://\u001b[39m\u001b[39m%s\u001b[39;00m\u001b[39m%s\u001b[39;00m\u001b[39m\"\u001b[39m \u001b[39m%\u001b[39m (\u001b[39mself\u001b[39m\u001b[39m.\u001b[39mscheme, \u001b[39mself\u001b[39m\u001b[39m.\u001b[39mdomain, \u001b[39mself\u001b[39m\u001b[39m.\u001b[39mreverse_path)\n",
      "\u001b[1;31mConfigurationError\u001b[0m: Using Nominatim with default or sample `user_agent` \"geopy/2.2.0\" is strongly discouraged, as it violates Nominatim's ToS https://operations.osmfoundation.org/policies/nominatim/ and may possibly cause 403 and 429 HTTP errors. Please specify a custom `user_agent` with `Nominatim(user_agent=\"my-application\")` or by overriding the default `user_agent`: `geopy.geocoders.options.default_user_agent = \"my-application\"`."
     ]
    }
   ],
   "source": [
    "geocoder = Nominatim()\n",
    "location_dict = {}\n",
    "location = \"\"\n",
    "permalink = \"\"\n",
    "title = \"\""
   ]
  },
  {
   "cell_type": "code",
   "execution_count": 7,
   "metadata": {
    "collapsed": false
   },
   "outputs": [
    {
     "ename": "NameError",
     "evalue": "name 'geocoder' is not defined",
     "output_type": "error",
     "traceback": [
      "\u001b[1;31m---------------------------------------------------------------------------\u001b[0m",
      "\u001b[1;31mNameError\u001b[0m                                 Traceback (most recent call last)",
      "\u001b[1;32md:\\02code\\academicpages.github.io\\talkmap.ipynb Cell 5\u001b[0m in \u001b[0;36m<cell line: 1>\u001b[1;34m()\u001b[0m\n\u001b[0;32m      <a href='vscode-notebook-cell:/d%3A/02code/academicpages.github.io/talkmap.ipynb#W4sZmlsZQ%3D%3D?line=6'>7</a>\u001b[0m     loc_end \u001b[39m=\u001b[39m lines_trim\u001b[39m.\u001b[39mfind(\u001b[39m'\u001b[39m\u001b[39m\"\u001b[39m\u001b[39m'\u001b[39m)\n\u001b[0;32m      <a href='vscode-notebook-cell:/d%3A/02code/academicpages.github.io/talkmap.ipynb#W4sZmlsZQ%3D%3D?line=7'>8</a>\u001b[0m     location \u001b[39m=\u001b[39m lines_trim[:loc_end]\n\u001b[1;32m---> <a href='vscode-notebook-cell:/d%3A/02code/academicpages.github.io/talkmap.ipynb#W4sZmlsZQ%3D%3D?line=10'>11</a>\u001b[0m location_dict[location] \u001b[39m=\u001b[39m geocoder\u001b[39m.\u001b[39mgeocode(location)\n\u001b[0;32m     <a href='vscode-notebook-cell:/d%3A/02code/academicpages.github.io/talkmap.ipynb#W4sZmlsZQ%3D%3D?line=11'>12</a>\u001b[0m \u001b[39mprint\u001b[39m(location, \u001b[39m\"\u001b[39m\u001b[39m\\n\u001b[39;00m\u001b[39m\"\u001b[39m, location_dict[location])\n",
      "\u001b[1;31mNameError\u001b[0m: name 'geocoder' is not defined"
     ]
    }
   ],
   "source": [
    "\n",
    "for file in g:\n",
    "    with open(file, 'r') as f:\n",
    "        lines = f.read()\n",
    "        if lines.find('location: \"') > 1:\n",
    "            loc_start = lines.find('location: \"') + 11\n",
    "            lines_trim = lines[loc_start:]\n",
    "            loc_end = lines_trim.find('\"')\n",
    "            location = lines_trim[:loc_end]\n",
    "                            \n",
    "           \n",
    "        location_dict[location] = geocoder.geocode(location)\n",
    "        print(location, \"\\n\", location_dict[location])\n"
   ]
  },
  {
   "cell_type": "code",
   "execution_count": 9,
   "metadata": {
    "collapsed": false
   },
   "outputs": [
    {
     "ename": "NameError",
     "evalue": "name 'location_dict' is not defined",
     "output_type": "error",
     "traceback": [
      "\u001b[1;31m---------------------------------------------------------------------------\u001b[0m",
      "\u001b[1;31mNameError\u001b[0m                                 Traceback (most recent call last)",
      "\u001b[1;32md:\\02code\\academicpages.github.io\\talkmap.ipynb Cell 6\u001b[0m in \u001b[0;36m<cell line: 2>\u001b[1;34m()\u001b[0m\n\u001b[0;32m      <a href='vscode-notebook-cell:/d%3A/02code/academicpages.github.io/talkmap.ipynb#W5sZmlsZQ%3D%3D?line=0'>1</a>\u001b[0m m \u001b[39m=\u001b[39m getorg\u001b[39m.\u001b[39morgmap\u001b[39m.\u001b[39mcreate_map_obj()\n\u001b[1;32m----> <a href='vscode-notebook-cell:/d%3A/02code/academicpages.github.io/talkmap.ipynb#W5sZmlsZQ%3D%3D?line=1'>2</a>\u001b[0m getorg\u001b[39m.\u001b[39morgmap\u001b[39m.\u001b[39moutput_html_cluster_map(location_dict, folder_name\u001b[39m=\u001b[39m\u001b[39m\"\u001b[39m\u001b[39m../talkmap\u001b[39m\u001b[39m\"\u001b[39m, hashed_usernames\u001b[39m=\u001b[39m\u001b[39mFalse\u001b[39;00m)\n",
      "\u001b[1;31mNameError\u001b[0m: name 'location_dict' is not defined"
     ]
    }
   ],
   "source": [
    "m = getorg.orgmap.create_map_obj()\n",
    "getorg.orgmap.output_html_cluster_map(location_dict, folder_name=\"../talkmap\", hashed_usernames=False)"
   ]
  },
  {
   "cell_type": "code",
   "execution_count": null,
   "metadata": {
    "collapsed": true
   },
   "outputs": [],
   "source": []
  }
 ],
 "metadata": {
  "anaconda-cloud": {},
  "kernelspec": {
   "display_name": "Python 3.9.12 ('base')",
   "language": "python",
   "name": "python3"
  },
  "language_info": {
   "codemirror_mode": {
    "name": "ipython",
    "version": 3
   },
   "file_extension": ".py",
   "mimetype": "text/x-python",
   "name": "python",
   "nbconvert_exporter": "python",
   "pygments_lexer": "ipython3",
   "version": "3.9.12"
  },
  "vscode": {
   "interpreter": {
    "hash": "ad2bdc8ecc057115af97d19610ffacc2b4e99fae6737bb82f5d7fb13d2f2c186"
   }
  }
 },
 "nbformat": 4,
 "nbformat_minor": 0
}
